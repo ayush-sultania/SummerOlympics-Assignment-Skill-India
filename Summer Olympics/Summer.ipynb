{
  "nbformat": 4,
  "nbformat_minor": 0,
  "metadata": {
    "kernelspec": {
      "display_name": "Python 2",
      "language": "python",
      "name": "python2"
    },
    "language_info": {
      "codemirror_mode": {
        "name": "ipython",
        "version": 2
      },
      "file_extension": ".py",
      "mimetype": "text/x-python",
      "name": "python",
      "nbconvert_exporter": "python",
      "pygments_lexer": "ipython2",
      "version": "2.7.16"
    },
    "colab": {
      "name": "Summer.ipynb",
      "provenance": []
    }
  },
  "cells": [
    {
      "cell_type": "markdown",
      "metadata": {
        "id": "GGO0xH36G_BI"
      },
      "source": [
        "# Summer Olympics Data Analysis Assignment"
      ]
    },
    {
      "cell_type": "code",
      "metadata": {
        "id": "1act3oNuHr55"
      },
      "source": [
        "import pandas as pd\n",
        "import numpy as np\n",
        "import matplotlib.pyplot as plt\n",
        "\n",
        "df = pd.read_csv(\"summer.csv\")"
      ],
      "execution_count": 2,
      "outputs": []
    },
    {
      "cell_type": "markdown",
      "metadata": {
        "id": "RdsERyiSG_BK"
      },
      "source": [
        "### 1. In how many cities Summer Olympics is held so far?"
      ]
    },
    {
      "cell_type": "code",
      "metadata": {
        "colab": {
          "base_uri": "https://localhost:8080/"
        },
        "id": "JNpUlY2HH2HR",
        "outputId": "ea89fc6f-19d2-49a4-ec39-705b5a9d3288"
      },
      "source": [
        "print (\"Number of cities :\" ,len(df['City'].unique()))\n",
        "for city in df['City'].unique() :\n",
        "  print(city)\n"
      ],
      "execution_count": 9,
      "outputs": [
        {
          "output_type": "stream",
          "name": "stdout",
          "text": [
            "('Number of cities :', 22)\n",
            "Athens\n",
            "Paris\n",
            "St Louis\n",
            "London\n",
            "Stockholm\n",
            "Antwerp\n",
            "Amsterdam\n",
            "Los Angeles\n",
            "Berlin\n",
            "Helsinki\n",
            "Melbourne / Stockholm\n",
            "Rome\n",
            "Tokyo\n",
            "Mexico\n",
            "Munich\n",
            "Montreal\n",
            "Moscow\n",
            "Seoul\n",
            "Barcelona\n",
            "Atlanta\n",
            "Sydney\n",
            "Beijing\n"
          ]
        }
      ]
    },
    {
      "cell_type": "markdown",
      "metadata": {
        "id": "5wNQMA4DG_BM"
      },
      "source": [
        "### 2. Which sport is having most number of Gold Medals so far? (Top 5)"
      ]
    },
    {
      "cell_type": "code",
      "metadata": {
        "colab": {
          "base_uri": "https://localhost:8080/",
          "height": 403
        },
        "id": "7cqVEq5QRAc8",
        "outputId": "d67c7f7f-1051-4872-fccf-0ae0c8b8e993"
      },
      "source": [
        "da = df[df['Medal']  == 'Gold']\n",
        "\n",
        "data = []\n",
        "\n",
        "for sport in da['Sport'].unique():\n",
        "    data.append([sport , len(da[da['Sport']  == sport])])\n",
        "\n",
        "pd.DataFrame(data,columns = ['Sport','Number of Golds']).sort_values(by='Number of Golds', ascending=False).head().plot(x = 'Sport', y = 'Number of Golds', kind = 'bar', figsize = (10,5))"
      ],
      "execution_count": 66,
      "outputs": [
        {
          "output_type": "execute_result",
          "data": {
            "text/plain": [
              "<matplotlib.axes._subplots.AxesSubplot at 0x7ff975ccbd90>"
            ]
          },
          "metadata": {},
          "execution_count": 66
        },
        {
          "output_type": "display_data",
          "data": {
            "image/png": "[encoded data removed]",
            "text/plain": [
              "<Figure size 720x360 with 1 Axes>"
            ]
          },
          "metadata": {
            "needs_background": "light"
          }
        }
      ]
    },
    {
      "cell_type": "markdown",
      "metadata": {
        "id": "hUyyYHJNG_BM"
      },
      "source": [
        "### 3. Which sport is having most number of medals so far? (Top 5)"
      ]
    },
    {
      "cell_type": "code",
      "metadata": {
        "colab": {
          "base_uri": "https://localhost:8080/",
          "height": 403
        },
        "id": "e5nciw1uG_BN",
        "outputId": "3648b817-fd9d-4904-8731-08f498c7b170"
      },
      "source": [
        "DataSports = []\n",
        "\n",
        "for sport in df['Sport'].unique():\n",
        "    DataSports.append([sport , len(df[df['Sport']  == sport])])\n",
        "\n",
        "pd.DataFrame(DataSports,columns = ['Sport','Number of Medals']).sort_values(by='Number of Medals', ascending=False).head().plot(x = 'Sport', y = 'Number of Medals', kind = 'bar', figsize = (10,5))"
      ],
      "execution_count": 65,
      "outputs": [
        {
          "output_type": "execute_result",
          "data": {
            "text/plain": [
              "<matplotlib.axes._subplots.AxesSubplot at 0x7ff975d45cd0>"
            ]
          },
          "metadata": {},
          "execution_count": 65
        },
        {
          "output_type": "display_data",
          "data": {
            "image/png": "[encoded data removed]",
            "text/plain": [
              "<Figure size 720x360 with 1 Axes>"
            ]
          },
          "metadata": {
            "needs_background": "light"
          }
        }
      ]
    },
    {
      "cell_type": "markdown",
      "metadata": {
        "id": "Ux5f1mhgG_BN"
      },
      "source": [
        "### 4. Which player has won most number of medals? (Top 5)"
      ]
    },
    {
      "cell_type": "code",
      "metadata": {
        "colab": {
          "base_uri": "https://localhost:8080/",
          "height": 462
        },
        "id": "h58RMfVJYeSd",
        "outputId": "f40a7ce8-10d6-4f3b-9543-ac7f7fd13f03"
      },
      "source": [
        "DataPlayer = []\n",
        "\n",
        "for player in df['Athlete'].unique():\n",
        "    DataPlayer.append([player , len(df[df['Athlete']  == player])])\n",
        "\n",
        "pd.DataFrame(DataPlayer,columns = ['Athlete','Number of Medals']).sort_values(by='Number of Medals', ascending=False).head().plot(x = 'Athlete', y = 'Number of Medals', kind = 'bar', figsize = (10,5))"
      ],
      "execution_count": 67,
      "outputs": [
        {
          "output_type": "execute_result",
          "data": {
            "text/plain": [
              "<matplotlib.axes._subplots.AxesSubplot at 0x7ff975d0b8d0>"
            ]
          },
          "metadata": {},
          "execution_count": 67
        },
        {
          "output_type": "display_data",
          "data": {
            "image/png": "[encoded data removed]",
            "text/plain": [
              "<Figure size 720x360 with 1 Axes>"
            ]
          },
          "metadata": {
            "needs_background": "light"
          }
        }
      ]
    },
    {
      "cell_type": "markdown",
      "metadata": {
        "id": "MOoYdxgcG_BN"
      },
      "source": [
        "### 5. Which player has won most number Gold Medals of medals? (Top 5)"
      ]
    },
    {
      "cell_type": "code",
      "metadata": {
        "colab": {
          "base_uri": "https://localhost:8080/",
          "height": 430
        },
        "id": "ev-OsFpyG_BO",
        "outputId": "d0a6cb5f-a43b-4cd8-bf5c-47ec98ca1f4a"
      },
      "source": [
        "DataPlayerGold = []\n",
        "\n",
        "for athlete in da['Athlete'].unique():\n",
        "    DataPlayerGold.append([athlete , len(da[da['Athlete']  == athlete])])\n",
        "\n",
        "pd.DataFrame(DataPlayerGold,columns = ['Athlete','Number of Golds']).sort_values(by='Number of Golds', ascending=False).head().plot(x = 'Athlete', y = 'Number of Golds', kind = 'bar', figsize = (10,5))"
      ],
      "execution_count": 74,
      "outputs": [
        {
          "output_type": "execute_result",
          "data": {
            "text/plain": [
              "<matplotlib.axes._subplots.AxesSubplot at 0x7ff97a3170d0>"
            ]
          },
          "metadata": {},
          "execution_count": 74
        },
        {
          "output_type": "display_data",
          "data": {
            "image/png": "[encoded data removed]",
            "text/plain": [
              "<Figure size 720x360 with 1 Axes>"
            ]
          },
          "metadata": {
            "needs_background": "light"
          }
        }
      ]
    },
    {
      "cell_type": "markdown",
      "metadata": {
        "id": "EFpjXwmdG_BO"
      },
      "source": [
        "### 6. In which year India won first Gold Medal in Summer Olympics?"
      ]
    },
    {
      "cell_type": "code",
      "metadata": {
        "id": "VlNdxiRoG_BO"
      },
      "source": [
        "Ind = da[da['Country'] == 'IND']"
      ],
      "execution_count": 89,
      "outputs": []
    },
    {
      "cell_type": "code",
      "metadata": {
        "colab": {
          "base_uri": "https://localhost:8080/",
          "height": 80
        },
        "id": "uSVs40Q5fwk4",
        "outputId": "887b1b84-c271-45fd-d80a-a442d75ca712"
      },
      "source": [
        "Ind.head(1)"
      ],
      "execution_count": 92,
      "outputs": [
        {
          "output_type": "execute_result",
          "data": {
            "text/plain": [
              "      Year       City   Sport Discipline               Athlete Country Gender  \\\n",
              "5512  1928  Amsterdam  Hockey     Hockey  ALLEN, Richard James     IND    Men   \n",
              "\n",
              "       Event Medal  \n",
              "5512  Hockey  Gold  "
            ],
            "text/html": [
              "<div>\n",
              "<style scoped>\n",
              "    .dataframe tbody tr th:only-of-type {\n",
              "        vertical-align: middle;\n",
              "    }\n",
              "\n",
              "    .dataframe tbody tr th {\n",
              "        vertical-align: top;\n",
              "    }\n",
              "\n",
              "    .dataframe thead th {\n",
              "        text-align: right;\n",
              "    }\n",
              "</style>\n",
              "<table border=\"1\" class=\"dataframe\">\n",
              "  <thead>\n",
              "    <tr style=\"text-align: right;\">\n",
              "      <th></th>\n",
              "      <th>Year</th>\n",
              "      <th>City</th>\n",
              "      <th>Sport</th>\n",
              "      <th>Discipline</th>\n",
              "      <th>Athlete</th>\n",
              "      <th>Country</th>\n",
              "      <th>Gender</th>\n",
              "      <th>Event</th>\n",
              "      <th>Medal</th>\n",
              "    </tr>\n",
              "  </thead>\n",
              "  <tbody>\n",
              "    <tr>\n",
              "      <th>5512</th>\n",
              "      <td>1928</td>\n",
              "      <td>Amsterdam</td>\n",
              "      <td>Hockey</td>\n",
              "      <td>Hockey</td>\n",
              "      <td>ALLEN, Richard James</td>\n",
              "      <td>IND</td>\n",
              "      <td>Men</td>\n",
              "      <td>Hockey</td>\n",
              "      <td>Gold</td>\n",
              "    </tr>\n",
              "  </tbody>\n",
              "</table>\n",
              "</div>"
            ]
          },
          "metadata": {},
          "execution_count": 92
        }
      ]
    },
    {
      "cell_type": "markdown",
      "metadata": {
        "id": "JGZwjhakG_BP"
      },
      "source": [
        "### 7. Which event is most popular in terms on number of players? (Top 5)"
      ]
    },
    {
      "cell_type": "code",
      "metadata": {
        "colab": {
          "base_uri": "https://localhost:8080/",
          "height": 436
        },
        "id": "NH05m1qsg-C7",
        "outputId": "c2117116-0e1a-487f-99cf-a73a477e6d4c"
      },
      "source": [
        "DataEvent = []\n",
        "\n",
        "for player in df['Event'].unique():\n",
        "    DataEvent.append([player , len(df[df['Event']  == player])])\n",
        "\n",
        "pd.DataFrame(DataEvent,columns = ['Event','Number of Players']).sort_values(by='Number of Players', ascending=False).head().plot(x = 'Event', y = 'Number of Players', kind = 'bar', figsize = (10,5))"
      ],
      "execution_count": 4,
      "outputs": [
        {
          "output_type": "execute_result",
          "data": {
            "text/plain": [
              "<matplotlib.axes._subplots.AxesSubplot at 0x7f47668abd50>"
            ]
          },
          "metadata": {},
          "execution_count": 4
        },
        {
          "output_type": "display_data",
          "data": {
            "image/png": "[encoded data removed]",
            "text/plain": [
              "<Figure size 720x360 with 1 Axes>"
            ]
          },
          "metadata": {
            "needs_background": "light"
          }
        }
      ]
    },
    {
      "cell_type": "markdown",
      "metadata": {
        "id": "cqE1jvyaG_BP"
      },
      "source": [
        "### 8. Which sport is having most female Gold Medalists? (Top 5)"
      ]
    },
    {
      "cell_type": "code",
      "metadata": {
        "colab": {
          "base_uri": "https://localhost:8080/",
          "height": 435
        },
        "id": "cT03LecoG_BP",
        "outputId": "dd61b7ad-ca48-4b1e-a021-165a35e9880e"
      },
      "source": [
        "dfemale = da[da['Gender'] == 'Women']\n",
        "\n",
        "DataFemaleGold = []\n",
        "\n",
        "for athlete in dfemale['Athlete'].unique():\n",
        "    DataFemaleGold.append([athlete , len(dfemale[dfemale['Athlete']  == athlete])])\n",
        "\n",
        "pd.DataFrame(DataFemaleGold,columns = ['Athlete','Number of Golds']).sort_values(by='Number of Golds', ascending=False).head().plot(x = 'Athlete', y = 'Number of Golds', kind = 'bar', figsize = (10,5))"
      ],
      "execution_count": 82,
      "outputs": [
        {
          "output_type": "execute_result",
          "data": {
            "text/plain": [
              "<matplotlib.axes._subplots.AxesSubplot at 0x7ff975bc6a10>"
            ]
          },
          "metadata": {},
          "execution_count": 82
        },
        {
          "output_type": "display_data",
          "data": {
            "image/png": "[encoded data removed]",
            "text/plain": [
              "<Figure size 720x360 with 1 Axes>"
            ]
          },
          "metadata": {
            "needs_background": "light"
          }
        }
      ]
    }
  ]
}